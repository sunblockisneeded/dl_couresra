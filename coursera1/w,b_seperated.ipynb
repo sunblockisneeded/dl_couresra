{
 "cells": [
  {
   "cell_type": "code",
   "execution_count": 3,
   "metadata": {},
   "outputs": [],
   "source": [
    "import numpy as nnp\n",
    "import matplotlib.pyplot as plt\n",
    "\n",
    "from lr_utils import *"
   ]
  },
  {
   "cell_type": "code",
   "execution_count": 4,
   "metadata": {},
   "outputs": [],
   "source": [
    "# 고양이인 데이터와 고양이가 아닌 데이터를\n",
    "# 로지스틱 회귀를 통해 구분해보기\n",
    "train_set_x_orig, train_set_y, test_set_x_orig, test_set_y, classes = load_dataset()"
   ]
  },
  {
   "cell_type": "code",
   "execution_count": null,
   "metadata": {},
   "outputs": [],
   "source": [
    "train_set_x_flatten = train_set_x_orig.reshape(train_set_x_orig.shape[0],-1).T\n",
    "test_set_x_flatten = test_set_x_orig.reshape(test_set_x_orig.shape[0],-1).T"
   ]
  },
  {
   "cell_type": "code",
   "execution_count": null,
   "metadata": {},
   "outputs": [],
   "source": [
    "#utils -param 시작, sigmoid\n",
    "\n",
    "def initialize_with_zeros(dim):\n",
    "    #zeros, ones는 zeros((차원1, 차원2))과 같은식으로 사용해야 함\n",
    "    w = np.zeros((dim,1))\n",
    "    b = 0.\n",
    "    return w, b\n",
    "\n",
    "def sigmoid(z):\n",
    "    s = 1 / (1 + np.exp(-z))\n",
    "    return s"
   ]
  },
  {
   "cell_type": "code",
   "execution_count": 17,
   "metadata": {},
   "outputs": [],
   "source": [
    "def propagate(w,b,X,Y):\n",
    "    m = X.shape[1]\n",
    "    Z = w.T@X + b\n",
    "    A = sigmoid(Z)\n",
    "\n",
    "    cost = (Y * np.log(A) + (1-Y) * np.log(1-A)).sum() / -m\n",
    "\n",
    "    dw = X @ (A-Y).T / m\n",
    "    db = (A-Y).sum() / m\n",
    "    grads = {\n",
    "        \"dw\" : dw,\n",
    "        \"db\" : db,\n",
    "    }\n",
    "    return grads, cost"
   ]
  },
  {
   "cell_type": "code",
   "execution_count": 20,
   "metadata": {},
   "outputs": [],
   "source": [
    "def optimize(w, b, X, Y, num_iterations = 2000, lr = 0.009, print_cost = True):\n",
    "    costs = []\n",
    "    for i in range(num_iterations):\n",
    "        grads, cost = propagate(w,b,X,Y)\n",
    "        dw = grads[\"dw\"]\n",
    "        db = grads[\"db\"]\n",
    "        #update param\n",
    "        #deepcopy를 사용하지 않는다면 optimize 외부에서 넘어온 w와 b의 값이\n",
    "        #어딘가에서 변할 수도 있음\n",
    "        w = w- lr * dw\n",
    "        b = b- lr * db\n",
    "        \n",
    "        if (i+1) % 100 ==0:\n",
    "            costs.append(cost)\n",
    "\n",
    "            if print_cost:\n",
    "                print(f\"Cost After {i+1} iterations : {cost}\")\n",
    "    params = {\n",
    "        \"w\" : w, \n",
    "        \"b\" : b}\n",
    "    \n",
    "    grads = {\"dw\" : dw,\n",
    "             \"db\" : db,}\n",
    "    return params, grads, costs\n",
    "    \n"
   ]
  },
  {
   "cell_type": "code",
   "execution_count": 21,
   "metadata": {},
   "outputs": [
    {
     "name": "stdout",
     "output_type": "stream",
     "text": [
      "Cost After 100 iterations : 0.47715649504824453\n",
      "Cost After 200 iterations : 0.8471092191546921\n",
      "Cost After 300 iterations : 0.5837524449397078\n",
      "Cost After 400 iterations : 0.48113380121374033\n",
      "Cost After 500 iterations : 0.36121067514479355\n",
      "Cost After 600 iterations : 0.24121803161715624\n",
      "Cost After 700 iterations : 0.16856909780439225\n",
      "Cost After 800 iterations : 0.15051961104077807\n",
      "Cost After 900 iterations : 0.13960214924932912\n",
      "Cost After 1000 iterations : 0.1303981662836805\n",
      "Cost After 1100 iterations : 0.1223950112584566\n",
      "Cost After 1200 iterations : 0.11532321915155781\n",
      "Cost After 1300 iterations : 0.10901077034429985\n",
      "Cost After 1400 iterations : 0.10333458691721242\n",
      "Cost After 1500 iterations : 0.0982005870101832\n",
      "Cost After 1600 iterations : 0.09353397980325093\n",
      "Cost After 1700 iterations : 0.08927382998229712\n",
      "Cost After 1800 iterations : 0.08536965873672563\n",
      "Cost After 1900 iterations : 0.0817791391225479\n",
      "Cost After 2000 iterations : 0.07846644198882445\n"
     ]
    }
   ],
   "source": [
    "train_set_x = train_set_x_flatten / train_set_x_flatten.max()\n",
    "test_set_x = test_set_x_flatten / train_set_x_flatten.max() # 흠 스케일링을 똑같이 해야겠죠?\n",
    "w,b = initialize_with_zeros(train_set_x.shape[0])\n",
    "params, grads, costs = optimize(w,b,train_set_x,train_set_y, )"
   ]
  },
  {
   "cell_type": "code",
   "execution_count": null,
   "metadata": {},
   "outputs": [],
   "source": []
  }
 ],
 "metadata": {
  "kernelspec": {
   "display_name": "base",
   "language": "python",
   "name": "python3"
  },
  "language_info": {
   "codemirror_mode": {
    "name": "ipython",
    "version": 3
   },
   "file_extension": ".py",
   "mimetype": "text/x-python",
   "name": "python",
   "nbconvert_exporter": "python",
   "pygments_lexer": "ipython3",
   "version": "3.12.7"
  }
 },
 "nbformat": 4,
 "nbformat_minor": 2
}
