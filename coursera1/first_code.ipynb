{
 "cells": [
  {
   "cell_type": "code",
   "execution_count": 3,
   "metadata": {},
   "outputs": [],
   "source": [
    "import numpy as np\n",
    "import copy\n",
    "import matplotlib.pyplot as plt\n",
    "\n",
    "from lr_utils import load_dataset"
   ]
  },
  {
   "cell_type": "code",
   "execution_count": 4,
   "metadata": {},
   "outputs": [],
   "source": [
    "# 고양이인 데이터와 고양이가 아닌 데이터를\n",
    "# 로지스틱 회귀를 통해 구분해보기\n",
    "train_set_x_orig, train_set_y, test_set_x_orig, test_set_y, classes = load_dataset()"
   ]
  },
  {
   "cell_type": "code",
   "execution_count": null,
   "metadata": {},
   "outputs": [
    {
     "name": "stdout",
     "output_type": "stream",
     "text": [
      "y = [1], it's a 'cat' picture.\n"
     ]
    },
    {
     "data": {
      "image/png": "[encoded data removed]",
      "text/plain": [
       "<Figure size 640x480 with 1 Axes>"
      ]
     },
     "metadata": {},
     "output_type": "display_data"
    }
   ],
   "source": [
    "#plt.imshow는 이미지를 보여줄 수 있다\n",
    "index = 25\n",
    "plt.imshow(train_set_x_orig[index])\n",
    "print (\"y = \" + str(train_set_y[:, index]) + \", it's a '\" + classes[np.squeeze(train_set_y[:, index])].decode(\"utf-8\") +  \"' picture.\")"
   ]
  },
  {
   "cell_type": "code",
   "execution_count": null,
   "metadata": {},
   "outputs": [
    {
     "name": "stdout",
     "output_type": "stream",
     "text": [
      "(209, 64, 64, 3)\n"
     ]
    }
   ],
   "source": [
    "#원본 데이터셋을 불러온 다음, 그 데이터셋의 대략적인 개형과 shape 찍어보기\n",
    "#아하 209, 64 ,64, 3은 3채널로 된 64x64개의 픽셀로 된 사진이 209장이 있구나!\n",
    "print(train_set_x_orig.shape)"
   ]
  },
  {
   "cell_type": "code",
   "execution_count": 19,
   "metadata": {},
   "outputs": [
    {
     "name": "stdout",
     "output_type": "stream",
     "text": [
      "data's max value is 255\n",
      "data's min is 7\n"
     ]
    }
   ],
   "source": [
    "#직접 분포가 어떤지 한번 뜯어볼 것 같아\n",
    "print(\"data's max value is\",train_set_x_orig[1].max())\n",
    "print(\"data's min is\", train_set_x_orig[1].min())\n",
    "#값이 7부터 255까지 있구나!"
   ]
  },
  {
   "cell_type": "code",
   "execution_count": 22,
   "metadata": {},
   "outputs": [
    {
     "name": "stdout",
     "output_type": "stream",
     "text": [
      "[[0 0 1 0 0 0 0 1 0 0 0 1 0 1 1 0 0 0 0 1 0 0 0 0 1 1 0 1 0 1 0 0 0 0 0 0\n",
      "  0 0 1 0 0 1 1 0 0 0 0 1 0 0 1 0 0 0 1 0 1 1 0 1 1 1 0 0 0 0 0 0 1 0 0 1\n",
      "  0 0 0 0 0 0 0 0 0 0 0 1 1 0 0 0 1 0 0 0 1 1 1 0 0 1 0 0 0 0 1 0 1 0 1 1\n",
      "  1 1 1 1 0 0 0 0 0 1 0 0 0 1 0 0 1 0 1 0 1 1 0 0 0 1 1 1 1 1 0 0 0 0 1 0\n",
      "  1 1 1 0 1 1 0 0 0 1 0 0 1 0 0 0 0 0 1 0 1 0 1 0 0 1 1 1 0 0 1 1 0 1 0 1\n",
      "  0 0 0 0 0 1 0 0 1 0 0 0 1 0 0 0 0 1 0 0 1 0 0 0 0 0 0 0 0]]\n",
      "(1, 209)\n"
     ]
    }
   ],
   "source": [
    "print(train_set_y)\n",
    "print(train_set_y.shape)\n",
    "#y는 [0,1,1,0,0,0,1,...,1] 이런식으로 고양이인지 아닌지의 여부가 0과 1로 표현되어있구나"
   ]
  },
  {
   "cell_type": "code",
   "execution_count": 24,
   "metadata": {},
   "outputs": [
    {
     "name": "stdout",
     "output_type": "stream",
     "text": [
      "Number of training examples: m_train = 209\n",
      "Number of testing examples: m_test = 50\n",
      "Height/Width of each image: num_px = 64\n",
      "Each image is of size: (64, 64, 3)\n",
      "train_set_x shape: (209, 64, 64, 3)\n",
      "train_set_y shape: (1, 209)\n",
      "test_set_x shape: (50, 64, 64, 3)\n",
      "test_set_y shape: (1, 50)\n"
     ]
    }
   ],
   "source": [
    "#m은 주로 dl에서 데이터셋의 갯수를 표현하는데 쓰임\n",
    "m_train = train_set_y.shape[1]\n",
    "m_test = test_set_y.shape[1]\n",
    "num_px = train_set_x_orig.shape[1]\n",
    "\n",
    "print (\"Number of training examples: m_train = \" + str(m_train))\n",
    "print (\"Number of testing examples: m_test = \" + str(m_test))\n",
    "print (\"Height/Width of each image: num_px = \" + str(num_px))\n",
    "print (\"Each image is of size: (\" + str(num_px) + \", \" + str(num_px) + \", 3)\")\n",
    "print (\"train_set_x shape: \" + str(train_set_x_orig.shape))\n",
    "print (\"train_set_y shape: \" + str(train_set_y.shape))\n",
    "print (\"test_set_x shape: \" + str(test_set_x_orig.shape))\n",
    "print (\"test_set_y shape: \" + str(test_set_y.shape))"
   ]
  },
  {
   "cell_type": "code",
   "execution_count": 28,
   "metadata": {},
   "outputs": [],
   "source": [
    "# 2. 각 209개의 test데이터셋과 train 데이터셋을 reshape해야 함\n",
    "# x_train 같은 경우에는 (64*64*3, 209) 의 형태로 만들어야 한다.\n",
    "# 64*64*3이던 데이터가 한 줄로 합쳐져서 평탄화 되었기에 flatten 이라는 이름을 쓴다\n",
    "# reshape에는 특별한 기능이 있는데, -1을 넣으면 나머지의 형태를 알아서 맞춰줌\n",
    "# 예를들어 shape= (10,1) 짜리를 reshape(5,-1) -> (5,2)로 자동으로 조정\n",
    "\n",
    "train_set_x_flatten = train_set_x_orig.reshape(train_set_x_orig.shape[0],-1) #일단 (209,64*64*3) 의 형태로 조정\n",
    "train_set_x_flatten = train_set_x_flatten.T # 그 후 (12288,209)형태로 재조정. 익숙해지면 밑처럼 한번에 써도 됨\n",
    "\n",
    "#이건 위 과정을 한번에 쓴거\n",
    "test_set_x_flatten = test_set_x_orig.reshape(test_set_x_orig.shape[0],-1).T\n"
   ]
  },
  {
   "cell_type": "code",
   "execution_count": null,
   "metadata": {},
   "outputs": [
    {
     "name": "stdout",
     "output_type": "stream",
     "text": [
      "(12288, 209)\n",
      "(12288, 50)\n"
     ]
    }
   ],
   "source": [
    "\n",
    "# 데이터의 생긴 모습을, 하나의 개별 데이터는 세로로 쭉 있고\n",
    "# 걔네들이 가로로 209개, 50개 쌓인 모습을 상상해보세요\n",
    "#train_data = [x1, x2, x3, ...,x209]\n",
    "'''\n",
    "그리고 개별 x1 하나는 요렇게 세로로 길다랗게 생김\n",
    "x1= [\n",
    "    [1],\n",
    "    [2],\n",
    "    ...,\n",
    "    [12288]\n",
    "]\n",
    "'''\n",
    "print(train_set_x_flatten.shape)\n",
    "print(test_set_x_flatten.shape)\n"
   ]
  },
  {
   "cell_type": "code",
   "execution_count": 52,
   "metadata": {},
   "outputs": [],
   "source": [
    "#표준편차를 1로 만들자.. 정규화를 하는 의미에서 적절한 수로 나눠줌\n",
    "normalize_num = np.float32(train_set_x_flatten.max())\n",
    "train_set_x = train_set_x_flatten / normalize_num\n",
    "test_set_x = test_set_x_flatten / normalize_num"
   ]
  },
  {
   "cell_type": "code",
   "execution_count": null,
   "metadata": {},
   "outputs": [
    {
     "data": {
      "text/plain": [
       "'\\n아키텍쳐 생각해보기\\n12288개의 input layer과 1개의 output layer를 설정\\n만약 output의 특성이 0.5를 넘으면 cat 아니면 cat이 아니도록 설정\\n레이어 정의\\nsigmoid 정의\\n정확도 평가 설계\\n'"
      ]
     },
     "execution_count": 53,
     "metadata": {},
     "output_type": "execute_result"
    }
   ],
   "source": [
    "'''\n",
    "아키텍쳐 생각해보기\n",
    "12288개의 input layer과 1개의 output layer를 설정\n",
    "만약 output의 특성이 0.5를 넘으면 cat 아니면 cat이 아니도록 설정\n",
    "레이어 정의\n",
    "sigmoid 정의\n",
    "정확도 평가 설계\n",
    "규칙 : X,Y는 dataset으로 묶기\n",
    "       w,b = params으로 묶기\n",
    "'''"
   ]
  },
  {
   "cell_type": "code",
   "execution_count": 54,
   "metadata": {},
   "outputs": [],
   "source": [
    "# 파라미터 초기 설정\n",
    "# J가 볼록 함수라고 알려져있고 따라서 w와 b를0으로 초기화해도 알아서 굴러 떨어질 거라\n",
    "# 걍 0으로 초기화해줍시다\n",
    "def initialize_with_zeros(dim):\n",
    "    # dim은 생성하기르 원하는 w와 b의 차원 수\n",
    "    # layer size 를 1로만 할거기 때문에 \n",
    "    # params 의 모양은 세로로 쭉 늘어선 모양이어야겠지요?\n",
    "    # 우리가 원하는 건 12288개로 쭉 늘어선 w들과 하나의 b일 거에요\n",
    "    # z = w1,w2,...,w12288 + b1 같은 형태일 거니까요\n",
    "    # 사용할때는 dim = 12288 이렇게 적으면 되는거죠\n",
    "    w = np.zeros((dim, 1))\n",
    "    b= 0.\n",
    "    params = (w,b)\n",
    "    return params"
   ]
  },
  {
   "cell_type": "code",
   "execution_count": 55,
   "metadata": {},
   "outputs": [],
   "source": [
    "#시그모이드 정의 \n",
    "#밑이 e인 경우는 np.exp사용\n",
    "def sigmoid(z):\n",
    "    s = 1 / (1 + np.exp(-z))\n",
    "    return s"
   ]
  },
  {
   "cell_type": "code",
   "execution_count": 67,
   "metadata": {},
   "outputs": [],
   "source": [
    "#파라미터를 순전파하는 forward 설정\n",
    "def propagate(params, dataset):\n",
    "    #데이터의 갯수는 x의 두번째 열입니다.\n",
    "    w, b = params\n",
    "    X, Y = dataset\n",
    "    m = X.shape[1]\n",
    "    #초기화된 파라미터건 무슨 파라미터건을 파라미터를 받습니다\n",
    "    \n",
    "    Z = w.T@X + b\n",
    "    A = sigmoid(Z)\n",
    "\n",
    "    #로지스틱 회귀의 손실함수 공식입니당\n",
    "    cost = (Y * np.log(A) + (1-Y)* np.log(1-A)).sum() / -m\n",
    "    #dw와 db는 직접 계산하지 않고, 이 손실함수에서의 알려진 공식을 사용합니다.\n",
    "    dw = X@(A-Y).T / m\n",
    "    db = (A-Y).sum() / m\n",
    "    grads = {\n",
    "        \"dw\": dw,\n",
    "        \"db\": db\n",
    "    }\n",
    "    return grads, cost"
   ]
  },
  {
   "cell_type": "code",
   "execution_count": null,
   "metadata": {},
   "outputs": [],
   "source": [
    "def optimize(dataset, num_iterations = 1000, lr = 0.009, print_cost = True):\n",
    "    \"\"\"\n",
    "    dataset 요구사항: (x,y) 꼴이어야 하며, x는 (feature, m)으로 flatten되어 있어야 합니다\n",
    "    또한 데이터는 0과 1사이로 정규화되어 있어야 좋습니다\n",
    "    data의 x를 직접 찍어봐서, 0과 1사이인지 확인하고 스케일링이 잘 되있는지 확인하십시오.\n",
    "    \"\"\"\n",
    "    costs= []\n",
    "    X,Y  = dataset\n",
    "    params = initialize_with_zeros(X.shape[0])\n",
    "    w, b = params\n",
    "    for i in range(num_iterations):\n",
    "        grads, cost = propagate(params,dataset)\n",
    "        dw = grads['dw']\n",
    "        db = grads['db']\n",
    "        w = w - lr*dw\n",
    "        b = b - lr*db\n",
    "        params = (w,b)\n",
    "        if (i + 1) % 100 == 0:\n",
    "            costs.append(cost)\n",
    "\n",
    "            if print_cost:\n",
    "                print(f\"Cost after iterations {i + 1} : {cost}\")\n",
    "    params = {\"w\" : w, \"b\" : b}\n",
    "    grads = {\"dw\" : dw, \"db\" : db}\n",
    "    return params, grads, costs"
   ]
  },
  {
   "cell_type": "code",
   "execution_count": 86,
   "metadata": {},
   "outputs": [
    {
     "name": "stdout",
     "output_type": "stream",
     "text": [
      "Cost after iterations 100 : 0.4467685147026559\n",
      "Cost after iterations 200 : 1.4664058902954065\n",
      "Cost after iterations 300 : 0.8763182439091711\n",
      "Cost after iterations 400 : 0.6209725754622388\n",
      "Cost after iterations 500 : 0.41156736502096397\n",
      "Cost after iterations 600 : 0.2501114233447164\n",
      "Cost after iterations 700 : 0.1687269500086677\n",
      "Cost after iterations 800 : 0.15052194322356474\n",
      "Cost after iterations 900 : 0.1396038223175397\n",
      "Cost after iterations 1000 : 0.13039966643331916\n"
     ]
    }
   ],
   "source": [
    "cat_dataset = (train_set_x, train_set_y)\n",
    "params, grads, costs = optimize(cat_dataset)"
   ]
  },
  {
   "cell_type": "code",
   "execution_count": null,
   "metadata": {},
   "outputs": [],
   "source": []
  },
  {
   "cell_type": "code",
   "execution_count": null,
   "metadata": {},
   "outputs": [],
   "source": []
  }
 ],
 "metadata": {
  "kernelspec": {
   "display_name": "base",
   "language": "python",
   "name": "python3"
  },
  "language_info": {
   "codemirror_mode": {
    "name": "ipython",
    "version": 3
   },
   "file_extension": ".py",
   "mimetype": "text/x-python",
   "name": "python",
   "nbconvert_exporter": "python",
   "pygments_lexer": "ipython3",
   "version": "3.12.7"
  }
 },
 "nbformat": 4,
 "nbformat_minor": 2
}
