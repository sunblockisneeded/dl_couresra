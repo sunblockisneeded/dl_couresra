{
 "cells": [
  {
   "cell_type": "code",
   "execution_count": null,
   "metadata": {},
   "outputs": [],
   "source": [
    "import h5py\n",
    "import numpy as np\n",
    "\n",
    "##load dataset\n",
    "train_dataset_ptr = h5py.File('datasets/train_signs.h5', \"r\")\n",
    "test_dataset_ptr = h5py.File('datasets/test_signs.h5', \"r\")\n",
    "\n",
    "#train_set set x and y\n",
    "train_set_x_orig = np.array(train_dataset_ptr[\"train_set_x\"][:])\n",
    "train_set_y_orig = np.array(train_dataset_ptr[\"train_set_y\"][:])\n",
    "\n",
    "#testset also\n",
    "test_set_x_orig = np.array(test_dataset_ptr[\"test_set_x\"][:])\n",
    "test_set_y_orig = np.array(test_dataset_ptr[\"test_set_y\"][:])\n",
    "\n",
    "# classes\n",
    "classes = np.array(test_dataset_ptr[\"list_classes\"][:])\n"
   ]
  },
  {
   "cell_type": "markdown",
   "metadata": {},
   "source": [
    "### EXERCISE\n",
    "- 패딩 넣기\n",
    "패딩공간에 0을 넣는걸 ZERO_PADDING이라고 합니다\n",
    "np.pad함수를 사용함으로써 원하는 숫자를 원하는 곳에 넣을 수 있습니다.\n",
    "\n",
    "- np.pad 예시\n",
    "X가 이미지이고 200,200,3(RGB) 의 SHAPE를 가진다고 해보죠.\n",
    "X에 2만큼의 0 패딩을 넣고 싶다면\n",
    "np.pad(원본이미지, 어느 차원에 얼마만큼 넣을지, 모드, 패딩에 들어갈 숫자) 로 사용하면 됩니다.\n",
    "\n",
    "padded_img = np.pad(X, ((2,2),(2,2),(0,0)), mode= 'constant', constant_values=(0,0)) 과 같은 식로 사용합니다"
   ]
  },
  {
   "cell_type": "code",
   "execution_count": 20,
   "metadata": {},
   "outputs": [],
   "source": [
    "#exercise1 zero_pad\n",
    "def zero_pad(X, pad):\n",
    "    '''\n",
    "    input : x, pad (패딩을 얼만큼 적용할 것인지)\n",
    "    이미지x는 m, n_h, n_W, n_C로 구성되어 있습니다\n",
    "    m : 배치사이즈 \n",
    "    n_h : 이미지의 높이 number of height\n",
    "    n_w : 이미지의 너비 number of weidth\n",
    "    n_c : 이미지 채널 수 number of channel\n",
    "    '''\n",
    "    x_pad = np.pad(X,(\n",
    "        (0,0), (pad,pad),(pad,pad), (0,0)),\n",
    "        mode = 'constant',\n",
    "        constant_values = (0,0),\n",
    "    )\n",
    "    return x_pad"
   ]
  },
  {
   "cell_type": "code",
   "execution_count": 39,
   "metadata": {},
   "outputs": [],
   "source": [
    "def conv_single_step(a_slice_prev, W, b):\n",
    "    '''\n",
    "    컨볼루전의 과정을 구현\n",
    "    A가 슬라이스되어서 들어올거임.\n",
    "    가중치'화'된 필터를 element_wise연산으로 곱한다음 그 결과를 더해서 도출\n",
    "    '''\n",
    "    s = W * a_slice_prev\n",
    "    Z = np.sum(s) + b.item()\n",
    "    return Z\n",
    "    "
   ]
  },
  {
   "cell_type": "code",
   "execution_count": null,
   "metadata": {},
   "outputs": [],
   "source": [
    "def conv_forward(A_prev, W, b, hparameters):\n",
    "    '''\n",
    "    A_prev: 말 그대로 A[l-1] \n",
    "    W,b: 가중치'화'된 필터블럭\n",
    "    hparameters: 스트라이드와 패드가 있는 dictioar\n",
    "    Output: Z ,cache \n",
    "    Z는 활성함수가 적용된 상태\n",
    "\n",
    "    컨볼루션 계산 과정을 직접 구현할 것임. \n",
    "    슬라이싱을 이용하면 편하겠죠?\n",
    "    '''\n",
    "    #A_prev의 shape을 알아야겠지요\n",
    "    (m, n_H_prev, n_W_prev, n_C_prev) = A_prev.shape\n",
    "\n",
    "    #W의 shape도 알아봅시다\n",
    "    #단일 w는 (f, f, n_C_prev)로 구성되어 있고, \n",
    "    #W = (w1,w2,..필터의 갯수) 만큼 되어있기 때문에\n",
    "    #W.shape는 (f, f, n_C_prev, n_C)입니다\n",
    "    (f, f, n_C_prev, n_C) = W.shape\n",
    "\n",
    "    #하이퍼파라미터 dict에서 int로 저장된 stride와 pad를 불러옵니다.\n",
    "    stride = hparameters[\"stride\"]\n",
    "    pad = hparameters[\"pad\"]\n",
    "\n",
    "    #conv 아웃풋의 차원 수를 계산합니다\n",
    "    n_H = int((n_H_prev +2 * pad - f)/stride) + 1\n",
    "    n_W = int((n_W_prev +2 * pad - f)/stride) + 1\n",
    "\n",
    "    Z = np.zeros((m,n_H,n_W,n_C))\n",
    "\n",
    "    A_prev_pad = zero_pad(A_prev, pad)\n",
    "    \n",
    "\n",
    "\n"
   ]
  }
 ],
 "metadata": {
  "kernelspec": {
   "display_name": "base",
   "language": "python",
   "name": "python3"
  },
  "language_info": {
   "codemirror_mode": {
    "name": "ipython",
    "version": 3
   },
   "file_extension": ".py",
   "mimetype": "text/x-python",
   "name": "python",
   "nbconvert_exporter": "python",
   "pygments_lexer": "ipython3",
   "version": "3.12.7"
  }
 },
 "nbformat": 4,
 "nbformat_minor": 2
}
