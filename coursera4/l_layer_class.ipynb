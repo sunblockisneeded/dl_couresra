{
 "cells": [
  {
   "cell_type": "code",
   "execution_count": 16,
   "metadata": {},
   "outputs": [],
   "source": [
    "import numpy as np\n",
    "import matplotlib.pyplot as plt\n",
    "from dnn_app_utils_v3 import load_data\n",
    "import copy\n",
    "from utils.l_layer_application_utils import *"
   ]
  },
  {
   "cell_type": "code",
   "execution_count": 17,
   "metadata": {},
   "outputs": [],
   "source": [
    "train_x_orig, train_y, test_x_orig, test_y, classes = load_data()"
   ]
  },
  {
   "cell_type": "code",
   "execution_count": 18,
   "metadata": {},
   "outputs": [
    {
     "data": {
      "text/plain": [
       "(209, 64, 64, 3)"
      ]
     },
     "execution_count": 18,
     "metadata": {},
     "output_type": "execute_result"
    }
   ],
   "source": [
    "train_x_orig.shape"
   ]
  },
  {
   "cell_type": "code",
   "execution_count": 19,
   "metadata": {},
   "outputs": [
    {
     "name": "stdout",
     "output_type": "stream",
     "text": [
      "(12288, 209)\n",
      "(12288, 50)\n"
     ]
    }
   ],
   "source": [
    "train_x = train_x_orig.reshape(train_x_orig.shape[0],-1).T / 255.\n",
    "test_x = test_x_orig.reshape(test_x_orig.shape[0],-1).T / 255.\n",
    "print(train_x.shape)\n",
    "print(test_x.shape)"
   ]
  },
  {
   "cell_type": "code",
   "execution_count": null,
   "metadata": {},
   "outputs": [],
   "source": []
  },
  {
   "cell_type": "code",
   "execution_count": 20,
   "metadata": {},
   "outputs": [],
   "source": [
    "class LLayerModel:\n",
    "    def __init__(self, train_x, train_y):\n",
    "        self.train_x = train_x\n",
    "        self.train_y = train_y\n",
    "        self.learning_rate = None\n",
    "        self.parameters = None\n",
    "        self.layer_dims = None\n",
    "        self.costs = []\n",
    "\n",
    "    def make_layer_dims(self, layer_dims = None, L = None, hidden_units = None):\n",
    "        if is_valid_layerdims(layer_dims):\n",
    "            self.layer_dims = [self.train_x.shape[0]] + layer_dims + [self.train_y.shape[0]]\n",
    "        elif layer_dims is None and isinstance(L, int) and isinstance(hidden_units, int) and L > 0 and hidden_units > 0:\n",
    "            self.layer_dims = [self.train_x.shape[0]] + [hidden_units] * L + [self.train_y.shape[0]]\n",
    "        else : \n",
    "            raise ValueError(\"you should specify layers correctly\")\n",
    "    \n",
    "    def train(self, iterations= 3000, lr = None ,print_cost = True, plot_cost = True, ):\n",
    "        if self.layer_dims is None:\n",
    "            raise ValueError(\"you should set layer_dims first. use 'Model.make_layer_dims(layer_dims)' first\")\n",
    "        self.parameters = initialize_parameters_deep(self.layer_dims)\n",
    "        if isinstance(lr, float):\n",
    "            self.learning_rate = lr\n",
    "        for i in range(iterations):\n",
    "            AL, caches = forward(self.train_x, self.parameters)\n",
    "            cost = compute_cost(AL, self.train_y)\n",
    "            self.costs.append(cost)\n",
    "            if print_cost and (i+1) % 100 ==0:\n",
    "                accuracy = 1- np.mean(np.abs(AL - train_y))\n",
    "                print(f\"iteration {i+1} /  accuracy:{accuracy * 100}%\")\n",
    "                print('cost: ',cost)\n",
    "            grads = L_model_backward(AL, self.train_y, caches)\n",
    "            self.parameters = update_params(self.parameters, grads, self.learning_rate)\n",
    "        if plot_cost:\n",
    "            plot_costs(self.costs, self.learning_rate)\n",
    "\n",
    "    def predict(self, test_x, test_y):\n",
    "        y_hat, _ = forward(test_x, self.parameters)\n",
    "        cost = compute_cost(y_hat, test_y)\n",
    "        accuracy = 1 - np.mean(np.abs(y_hat - test_y))\n",
    "        print(\"acc\",accuracy * 100,\"%\")\n",
    "        print(\"cost:\", cost)\n",
    "        \n",
    "    \n",
    "    def meow(n):\n",
    "        print(\"meow \" * n)"
   ]
  },
  {
   "cell_type": "code",
   "execution_count": 21,
   "metadata": {},
   "outputs": [
    {
     "data": {
      "text/plain": [
       "'\\nnlp = LLayerModel(train_x,train_y)\\nnlp.make_layer_dims([20,7,5,2]) or nlp.make_layer_dims(L = 4, hidden_units = 20)\\nnlp.train(iterations, lr)\\nnlp.predict(test_x,test_y)\\n\\ntrain_x.shape = (-1, m)\\n'"
      ]
     },
     "execution_count": 21,
     "metadata": {},
     "output_type": "execute_result"
    }
   ],
   "source": [
    "#HOW TO USE \n",
    "'''\n",
    "nlp = LLayerModel(train_x,train_y)\n",
    "nlp.make_layer_dims([20,7,5,2]) or nlp.make_layer_dims(L = 4, hidden_units = 20)\n",
    "nlp.train(iterations, lr)\n",
    "nlp.predict(test_x,test_y)\n",
    "\n",
    "train_x.shape = (-1, m)\n",
    "'''"
   ]
  },
  {
   "cell_type": "code",
   "execution_count": null,
   "metadata": {},
   "outputs": [],
   "source": []
  },
  {
   "cell_type": "code",
   "execution_count": 22,
   "metadata": {},
   "outputs": [
    {
     "name": "stdout",
     "output_type": "stream",
     "text": [
      "iteration 100 /  accuracy:53.38935886811442%\n",
      "cost:  0.6503733381292702\n",
      "iteration 200 /  accuracy:54.91704353101401%\n",
      "cost:  0.6380515387619529\n",
      "iteration 300 /  accuracy:56.15645200655408%\n",
      "cost:  0.6139200417364881\n",
      "iteration 400 /  accuracy:58.77667829080322%\n",
      "cost:  0.5742908043365477\n",
      "iteration 500 /  accuracy:61.704651612504634%\n",
      "cost:  0.5318754685846937\n",
      "iteration 600 /  accuracy:64.01867274979331%\n",
      "cost:  0.4920348151419311\n",
      "iteration 700 /  accuracy:65.84838858135981%\n",
      "cost:  0.4599345023456125\n",
      "iteration 800 /  accuracy:66.53215522473212%\n",
      "cost:  0.44335085417453307\n",
      "iteration 900 /  accuracy:68.58984356324405%\n",
      "cost:  0.4133381844365088\n",
      "iteration 1000 /  accuracy:70.7363404566093%\n",
      "cost:  0.3820426773173946\n",
      "iteration 1100 /  accuracy:70.79626683655974%\n",
      "cost:  0.37872619061004287\n",
      "iteration 1200 /  accuracy:74.27889796670932%\n",
      "cost:  0.3312051844920819\n",
      "iteration 1300 /  accuracy:75.32277927924058%\n",
      "cost:  0.31517944779731777\n",
      "iteration 1400 /  accuracy:77.22038877823643%\n",
      "cost:  0.29039414737705405\n",
      "iteration 1500 /  accuracy:79.68151036542262%\n",
      "cost:  0.2583485305595836\n",
      "iteration 1600 /  accuracy:80.92550833878417%\n",
      "cost:  0.24221099242683236\n",
      "iteration 1700 /  accuracy:79.78951466081952%\n",
      "cost:  0.2533677758327213\n",
      "iteration 1800 /  accuracy:82.33417564573965%\n",
      "cost:  0.22647230747951214\n",
      "iteration 1900 /  accuracy:82.38264761452005%\n",
      "cost:  0.219364942663982\n",
      "iteration 2000 /  accuracy:79.39855822224958%\n",
      "cost:  0.2710623839427545\n",
      "iteration 2100 /  accuracy:85.76100323160483%\n",
      "cost:  0.19398715647945458\n",
      "iteration 2200 /  accuracy:89.7091387242353%\n",
      "cost:  0.13946377007593969\n",
      "iteration 2300 /  accuracy:89.7468115548089%\n",
      "cost:  0.13933151542449038\n",
      "iteration 2400 /  accuracy:91.32809771480555%\n",
      "cost:  0.1137499595955356\n",
      "iteration 2500 /  accuracy:92.24127568157061%\n",
      "cost:  0.0977317030316598\n",
      "iteration 2600 /  accuracy:93.12038148584588%\n",
      "cost:  0.08291848620629948\n",
      "iteration 2700 /  accuracy:93.894552058888%\n",
      "cost:  0.07154524387377645\n",
      "iteration 2800 /  accuracy:94.5090599331947%\n",
      "cost:  0.06352299935846335\n",
      "iteration 2900 /  accuracy:95.1005843296343%\n",
      "cost:  0.05566882014356969\n",
      "iteration 3000 /  accuracy:95.56977881009725%\n",
      "cost:  0.04973379499201754\n"
     ]
    },
    {
     "data": {
      "image/png": "[encoded data removed]",
      "text/plain": [
       "<Figure size 640x480 with 1 Axes>"
      ]
     },
     "metadata": {},
     "output_type": "display_data"
    }
   ],
   "source": [
    "nlp = LLayerModel(train_x, train_y)\n",
    "nlp.make_layer_dims([7])\n",
    "nlp.train(3000,0.0075)"
   ]
  },
  {
   "cell_type": "code",
   "execution_count": 23,
   "metadata": {},
   "outputs": [
    {
     "name": "stdout",
     "output_type": "stream",
     "text": [
      "acc 64.97157437695306 %\n",
      "cost: 1.0018367198319658\n"
     ]
    }
   ],
   "source": [
    "nlp.predict(test_x,test_y)"
   ]
  },
  {
   "cell_type": "code",
   "execution_count": 24,
   "metadata": {},
   "outputs": [
    {
     "name": "stdout",
     "output_type": "stream",
     "text": [
      "iteration 100 /  accuracy:50.81930005806863%\n",
      "cost:  0.6781358965697708\n",
      "iteration 200 /  accuracy:51.503002450026955%\n",
      "cost:  0.6676860067866411\n",
      "iteration 300 /  accuracy:52.06639678205913%\n",
      "cost:  0.6604814941528839\n",
      "iteration 400 /  accuracy:52.53082015692798%\n",
      "cost:  0.6554991665642119\n",
      "iteration 500 /  accuracy:52.91420674579418%\n",
      "cost:  0.6520422350828606\n",
      "iteration 600 /  accuracy:53.23131526223164%\n",
      "cost:  0.6496359036388202\n",
      "iteration 700 /  accuracy:53.49416622977614%\n",
      "cost:  0.6479557987726234\n",
      "iteration 800 /  accuracy:53.71250937127754%\n",
      "cost:  0.6467795101657359\n",
      "iteration 900 /  accuracy:53.894248740827386%\n",
      "cost:  0.6459539330393282\n",
      "iteration 1000 /  accuracy:54.04580196698119%\n",
      "cost:  0.6453732502156938\n",
      "iteration 1100 /  accuracy:54.172393884770344%\n",
      "cost:  0.6449640490193227\n",
      "iteration 1200 /  accuracy:54.2782919681251%\n",
      "cost:  0.6446752197785334\n",
      "iteration 1300 /  accuracy:54.36699375721552%\n",
      "cost:  0.6444710680307574\n",
      "iteration 1400 /  accuracy:54.44137524075452%\n",
      "cost:  0.6443265952850284\n",
      "iteration 1500 /  accuracy:54.5038089600751%\n",
      "cost:  0.6442242509360373\n",
      "iteration 1600 /  accuracy:54.55625787160881%\n",
      "cost:  0.6441516869246645\n",
      "iteration 1700 /  accuracy:54.60035037985085%\n",
      "cost:  0.6441001994480176\n",
      "iteration 1800 /  accuracy:54.637440563191774%\n",
      "cost:  0.6440636436456132\n",
      "iteration 1900 /  accuracy:54.66865674257315%\n",
      "cost:  0.6440376753240002\n",
      "iteration 2000 /  accuracy:54.69494087770107%\n",
      "cost:  0.6440192196854624\n",
      "iteration 2100 /  accuracy:54.71708057001996%\n",
      "cost:  0.644006098245328\n",
      "iteration 2200 /  accuracy:54.7357352869182%\n",
      "cost:  0.6439967662237013\n",
      "iteration 2300 /  accuracy:54.751457871365325%\n",
      "cost:  0.6439901274188159\n",
      "iteration 2400 /  accuracy:54.76471225161037%\n",
      "cost:  0.6439854034625252\n",
      "iteration 2500 /  accuracy:54.775888075057225%\n",
      "cost:  0.6439820413854507\n",
      "iteration 2600 /  accuracy:54.78531286067885%\n",
      "cost:  0.6439796481662777\n",
      "iteration 2700 /  accuracy:54.79326207590145%\n",
      "cost:  0.6439779443636077\n",
      "iteration 2800 /  accuracy:54.79996753116557%\n",
      "cost:  0.6439767312301814\n",
      "iteration 2900 /  accuracy:54.80562439591839%\n",
      "cost:  0.6439758673711067\n",
      "iteration 3000 /  accuracy:54.81039704822568%\n",
      "cost:  0.6439752521721196\n",
      "iteration 3100 /  accuracy:54.814423989378966%\n",
      "cost:  0.6439748140227984\n",
      "iteration 3200 /  accuracy:54.81782193309148%\n",
      "cost:  0.6439745019482312\n",
      "iteration 3300 /  accuracy:54.820689280480075%\n",
      "cost:  0.6439742796570256\n",
      "iteration 3400 /  accuracy:54.823108983460855%\n",
      "cost:  0.6439741213100437\n",
      "iteration 3500 /  accuracy:54.82515100515%\n",
      "cost:  0.6439740085060858\n",
      "iteration 3600 /  accuracy:54.826874350013%\n",
      "cost:  0.6439739281412359\n",
      "iteration 3700 /  accuracy:54.82832878523831%\n",
      "cost:  0.6439738708834062\n",
      "iteration 3800 /  accuracy:54.82955630193317%\n",
      "cost:  0.6439738300849458\n",
      "iteration 3900 /  accuracy:54.830592319765195%\n",
      "cost:  0.6439738010117747\n",
      "iteration 4000 /  accuracy:54.83146672712505%\n",
      "cost:  0.6439737802913872\n",
      "iteration 4100 /  accuracy:54.832204743475785%\n",
      "cost:  0.6439737655214122\n",
      "iteration 4200 /  accuracy:54.83282765399774%\n",
      "cost:  0.6439737549900753\n",
      "iteration 4300 /  accuracy:54.83335340947244%\n",
      "cost:  0.6439737474791591\n",
      "iteration 4400 /  accuracy:54.833797173294684%\n",
      "cost:  0.6439737421193088\n",
      "iteration 4500 /  accuracy:54.834171731726954%\n",
      "cost:  0.6439737382922553\n",
      "iteration 4600 /  accuracy:54.8344878831007%\n",
      "cost:  0.6439737355569313\n",
      "iteration 4700 /  accuracy:54.834754729773394%\n",
      "cost:  0.6439737335997798\n",
      "iteration 4800 /  accuracy:54.83497996461533%\n",
      "cost:  0.6439737321970299\n",
      "iteration 4900 /  accuracy:54.835170077140646%\n",
      "cost:  0.6439737311891757\n",
      "iteration 5000 /  accuracy:54.835330548602634%\n",
      "cost:  0.6439737304622685\n"
     ]
    },
    {
     "data": {
      "image/png": "[encoded data removed]",
      "text/plain": [
       "<Figure size 640x480 with 1 Axes>"
      ]
     },
     "metadata": {},
     "output_type": "display_data"
    },
    {
     "name": "stdout",
     "output_type": "stream",
     "text": [
      "acc 45.02481514848332 %\n",
      "cost: 0.846902162871137\n"
     ]
    }
   ],
   "source": [
    "nlp2 = LLayerModel(train_x,train_y)\n",
    "nlp2.make_layer_dims([20,7,5])\n",
    "nlp2.train(5000,0.0075)\n",
    "nlp2.predict(test_x,test_y)"
   ]
  }
 ],
 "metadata": {
  "kernelspec": {
   "display_name": "base",
   "language": "python",
   "name": "python3"
  },
  "language_info": {
   "codemirror_mode": {
    "name": "ipython",
    "version": 3
   },
   "file_extension": ".py",
   "mimetype": "text/x-python",
   "name": "python",
   "nbconvert_exporter": "python",
   "pygments_lexer": "ipython3",
   "version": "3.12.7"
  }
 },
 "nbformat": 4,
 "nbformat_minor": 2
}
